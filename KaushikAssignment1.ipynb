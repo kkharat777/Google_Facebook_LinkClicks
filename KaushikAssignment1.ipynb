{
 "cells": [
  {
   "cell_type": "markdown",
   "metadata": {},
   "source": [
    "# Importing libraries"
   ]
  },
  {
   "cell_type": "code",
   "execution_count": 1,
   "metadata": {},
   "outputs": [],
   "source": [
    "import numpy as np\n",
    "import pandas as pd\n",
    "import seaborn as sns\n",
    "import matplotlib.pyplot as plt\n",
    "import warnings\n",
    "warnings.filterwarnings(\"ignore\")\n",
    "pd.set_option(\"display.max_rows\",None)\n",
    "pd.set_option(\"display.max_columns\",None)\n",
    "%matplotlib inline"
   ]
  },
  {
   "cell_type": "code",
   "execution_count": 2,
   "metadata": {},
   "outputs": [
    {
     "data": {
      "text/html": [
       "<div>\n",
       "<style scoped>\n",
       "    .dataframe tbody tr th:only-of-type {\n",
       "        vertical-align: middle;\n",
       "    }\n",
       "\n",
       "    .dataframe tbody tr th {\n",
       "        vertical-align: top;\n",
       "    }\n",
       "\n",
       "    .dataframe thead th {\n",
       "        text-align: right;\n",
       "    }\n",
       "</style>\n",
       "<table border=\"1\" class=\"dataframe\">\n",
       "  <thead>\n",
       "    <tr style=\"text-align: right;\">\n",
       "      <th></th>\n",
       "      <th>Date</th>\n",
       "      <th>product</th>\n",
       "      <th>phase</th>\n",
       "      <th>campaign_platform</th>\n",
       "      <th>campaign_type</th>\n",
       "      <th>communication_medium</th>\n",
       "      <th>subchannel</th>\n",
       "      <th>audience_type</th>\n",
       "      <th>creative_type</th>\n",
       "      <th>creative_name</th>\n",
       "      <th>device</th>\n",
       "      <th>age</th>\n",
       "      <th>spends</th>\n",
       "      <th>impressions</th>\n",
       "      <th>clicks</th>\n",
       "      <th>link_clicks</th>\n",
       "    </tr>\n",
       "  </thead>\n",
       "  <tbody>\n",
       "    <tr>\n",
       "      <th>0</th>\n",
       "      <td>2019-10-16</td>\n",
       "      <td>Product 1</td>\n",
       "      <td>Performance</td>\n",
       "      <td>Google Ads</td>\n",
       "      <td>Search</td>\n",
       "      <td>Search Keywords</td>\n",
       "      <td>Brand</td>\n",
       "      <td>'-</td>\n",
       "      <td>'-</td>\n",
       "      <td>'-</td>\n",
       "      <td>Desktop</td>\n",
       "      <td>18-24</td>\n",
       "      <td>0.00</td>\n",
       "      <td>2</td>\n",
       "      <td>0</td>\n",
       "      <td>0.0</td>\n",
       "    </tr>\n",
       "    <tr>\n",
       "      <th>1</th>\n",
       "      <td>2019-10-16</td>\n",
       "      <td>Product 1</td>\n",
       "      <td>Performance</td>\n",
       "      <td>Google Ads</td>\n",
       "      <td>Search</td>\n",
       "      <td>Search Keywords</td>\n",
       "      <td>Brand</td>\n",
       "      <td>'-</td>\n",
       "      <td>'-</td>\n",
       "      <td>'-</td>\n",
       "      <td>Desktop</td>\n",
       "      <td>25-34</td>\n",
       "      <td>0.00</td>\n",
       "      <td>5</td>\n",
       "      <td>0</td>\n",
       "      <td>0.0</td>\n",
       "    </tr>\n",
       "    <tr>\n",
       "      <th>2</th>\n",
       "      <td>2019-10-16</td>\n",
       "      <td>Product 1</td>\n",
       "      <td>Performance</td>\n",
       "      <td>Google Ads</td>\n",
       "      <td>Search</td>\n",
       "      <td>Search Keywords</td>\n",
       "      <td>Brand</td>\n",
       "      <td>'-</td>\n",
       "      <td>'-</td>\n",
       "      <td>'-</td>\n",
       "      <td>Desktop</td>\n",
       "      <td>35-44</td>\n",
       "      <td>0.00</td>\n",
       "      <td>1</td>\n",
       "      <td>0</td>\n",
       "      <td>0.0</td>\n",
       "    </tr>\n",
       "    <tr>\n",
       "      <th>3</th>\n",
       "      <td>2019-10-16</td>\n",
       "      <td>Product 1</td>\n",
       "      <td>Performance</td>\n",
       "      <td>Google Ads</td>\n",
       "      <td>Search</td>\n",
       "      <td>Search Keywords</td>\n",
       "      <td>Brand</td>\n",
       "      <td>'-</td>\n",
       "      <td>'-</td>\n",
       "      <td>'-</td>\n",
       "      <td>Desktop</td>\n",
       "      <td>Undetermined</td>\n",
       "      <td>14.63</td>\n",
       "      <td>5</td>\n",
       "      <td>3</td>\n",
       "      <td>0.0</td>\n",
       "    </tr>\n",
       "    <tr>\n",
       "      <th>4</th>\n",
       "      <td>2019-10-18</td>\n",
       "      <td>Product 1</td>\n",
       "      <td>Performance</td>\n",
       "      <td>Google Ads</td>\n",
       "      <td>Search</td>\n",
       "      <td>Search Keywords</td>\n",
       "      <td>Brand</td>\n",
       "      <td>'-</td>\n",
       "      <td>'-</td>\n",
       "      <td>'-</td>\n",
       "      <td>Desktop</td>\n",
       "      <td>18-24</td>\n",
       "      <td>53.31</td>\n",
       "      <td>10</td>\n",
       "      <td>2</td>\n",
       "      <td>0.0</td>\n",
       "    </tr>\n",
       "  </tbody>\n",
       "</table>\n",
       "</div>"
      ],
      "text/plain": [
       "        Date    product        phase campaign_platform campaign_type  \\\n",
       "0 2019-10-16  Product 1  Performance        Google Ads        Search   \n",
       "1 2019-10-16  Product 1  Performance        Google Ads        Search   \n",
       "2 2019-10-16  Product 1  Performance        Google Ads        Search   \n",
       "3 2019-10-16  Product 1  Performance        Google Ads        Search   \n",
       "4 2019-10-18  Product 1  Performance        Google Ads        Search   \n",
       "\n",
       "  communication_medium subchannel audience_type creative_type creative_name  \\\n",
       "0      Search Keywords      Brand            '-            '-            '-   \n",
       "1      Search Keywords      Brand            '-            '-            '-   \n",
       "2      Search Keywords      Brand            '-            '-            '-   \n",
       "3      Search Keywords      Brand            '-            '-            '-   \n",
       "4      Search Keywords      Brand            '-            '-            '-   \n",
       "\n",
       "    device           age  spends  impressions  clicks  link_clicks  \n",
       "0  Desktop         18-24    0.00            2       0          0.0  \n",
       "1  Desktop         25-34    0.00            5       0          0.0  \n",
       "2  Desktop         35-44    0.00            1       0          0.0  \n",
       "3  Desktop  Undetermined   14.63            5       3          0.0  \n",
       "4  Desktop         18-24   53.31           10       2          0.0  "
      ]
     },
     "execution_count": 2,
     "metadata": {},
     "output_type": "execute_result"
    }
   ],
   "source": [
    "exc = pd.ExcelFile('Data Analyst Assignment (1).xlsx')\n",
    "df = pd.read_excel(exc, sheet_name=\"Assignment-1\")\n",
    "df.head()"
   ]
  },
  {
   "cell_type": "code",
   "execution_count": 3,
   "metadata": {},
   "outputs": [
    {
     "data": {
      "text/plain": [
       "(16834, 16)"
      ]
     },
     "execution_count": 3,
     "metadata": {},
     "output_type": "execute_result"
    }
   ],
   "source": [
    "df.shape"
   ]
  },
  {
   "cell_type": "code",
   "execution_count": 4,
   "metadata": {},
   "outputs": [
    {
     "name": "stdout",
     "output_type": "stream",
     "text": [
      "<class 'pandas.core.frame.DataFrame'>\n",
      "RangeIndex: 16834 entries, 0 to 16833\n",
      "Data columns (total 16 columns):\n",
      " #   Column                Non-Null Count  Dtype         \n",
      "---  ------                --------------  -----         \n",
      " 0   Date                  16834 non-null  datetime64[ns]\n",
      " 1   product               16834 non-null  object        \n",
      " 2   phase                 16834 non-null  object        \n",
      " 3   campaign_platform     16834 non-null  object        \n",
      " 4   campaign_type         16834 non-null  object        \n",
      " 5   communication_medium  16834 non-null  object        \n",
      " 6   subchannel            16834 non-null  object        \n",
      " 7   audience_type         16834 non-null  object        \n",
      " 8   creative_type         16834 non-null  object        \n",
      " 9   creative_name         16834 non-null  object        \n",
      " 10  device                16834 non-null  object        \n",
      " 11  age                   16834 non-null  object        \n",
      " 12  spends                16834 non-null  float64       \n",
      " 13  impressions           16834 non-null  int64         \n",
      " 14  clicks                16834 non-null  int64         \n",
      " 15  link_clicks           16288 non-null  float64       \n",
      "dtypes: datetime64[ns](1), float64(2), int64(2), object(11)\n",
      "memory usage: 2.1+ MB\n"
     ]
    }
   ],
   "source": [
    "df.info() #Datatypes of given Dataset and their count"
   ]
  },
  {
   "cell_type": "code",
   "execution_count": 5,
   "metadata": {},
   "outputs": [
    {
     "data": {
      "text/html": [
       "<div>\n",
       "<style scoped>\n",
       "    .dataframe tbody tr th:only-of-type {\n",
       "        vertical-align: middle;\n",
       "    }\n",
       "\n",
       "    .dataframe tbody tr th {\n",
       "        vertical-align: top;\n",
       "    }\n",
       "\n",
       "    .dataframe thead th {\n",
       "        text-align: right;\n",
       "    }\n",
       "</style>\n",
       "<table border=\"1\" class=\"dataframe\">\n",
       "  <thead>\n",
       "    <tr style=\"text-align: right;\">\n",
       "      <th></th>\n",
       "      <th>spends</th>\n",
       "      <th>impressions</th>\n",
       "      <th>clicks</th>\n",
       "      <th>link_clicks</th>\n",
       "    </tr>\n",
       "  </thead>\n",
       "  <tbody>\n",
       "    <tr>\n",
       "      <th>count</th>\n",
       "      <td>16834.000000</td>\n",
       "      <td>16834.000000</td>\n",
       "      <td>16834.000000</td>\n",
       "      <td>16288.000000</td>\n",
       "    </tr>\n",
       "    <tr>\n",
       "      <th>mean</th>\n",
       "      <td>148.694236</td>\n",
       "      <td>287.959190</td>\n",
       "      <td>11.977783</td>\n",
       "      <td>2.170371</td>\n",
       "    </tr>\n",
       "    <tr>\n",
       "      <th>std</th>\n",
       "      <td>483.895724</td>\n",
       "      <td>2444.450313</td>\n",
       "      <td>44.796963</td>\n",
       "      <td>18.659132</td>\n",
       "    </tr>\n",
       "    <tr>\n",
       "      <th>min</th>\n",
       "      <td>0.000000</td>\n",
       "      <td>0.000000</td>\n",
       "      <td>0.000000</td>\n",
       "      <td>0.000000</td>\n",
       "    </tr>\n",
       "    <tr>\n",
       "      <th>25%</th>\n",
       "      <td>0.180000</td>\n",
       "      <td>3.000000</td>\n",
       "      <td>0.000000</td>\n",
       "      <td>0.000000</td>\n",
       "    </tr>\n",
       "    <tr>\n",
       "      <th>50%</th>\n",
       "      <td>22.535000</td>\n",
       "      <td>13.000000</td>\n",
       "      <td>2.000000</td>\n",
       "      <td>0.000000</td>\n",
       "    </tr>\n",
       "    <tr>\n",
       "      <th>75%</th>\n",
       "      <td>110.020000</td>\n",
       "      <td>64.000000</td>\n",
       "      <td>8.000000</td>\n",
       "      <td>0.000000</td>\n",
       "    </tr>\n",
       "    <tr>\n",
       "      <th>max</th>\n",
       "      <td>9221.960000</td>\n",
       "      <td>67454.000000</td>\n",
       "      <td>1075.000000</td>\n",
       "      <td>450.000000</td>\n",
       "    </tr>\n",
       "  </tbody>\n",
       "</table>\n",
       "</div>"
      ],
      "text/plain": [
       "             spends   impressions        clicks   link_clicks\n",
       "count  16834.000000  16834.000000  16834.000000  16288.000000\n",
       "mean     148.694236    287.959190     11.977783      2.170371\n",
       "std      483.895724   2444.450313     44.796963     18.659132\n",
       "min        0.000000      0.000000      0.000000      0.000000\n",
       "25%        0.180000      3.000000      0.000000      0.000000\n",
       "50%       22.535000     13.000000      2.000000      0.000000\n",
       "75%      110.020000     64.000000      8.000000      0.000000\n",
       "max     9221.960000  67454.000000   1075.000000    450.000000"
      ]
     },
     "execution_count": 5,
     "metadata": {},
     "output_type": "execute_result"
    }
   ],
   "source": [
    "df.describe() #Quantitative variables in the dataset"
   ]
  },
  {
   "cell_type": "markdown",
   "metadata": {},
   "source": [
    "# Converting int type variables to float for further simplifications for our model"
   ]
  },
  {
   "cell_type": "code",
   "execution_count": 6,
   "metadata": {},
   "outputs": [
    {
     "name": "stdout",
     "output_type": "stream",
     "text": [
      "<class 'pandas.core.frame.DataFrame'>\n",
      "RangeIndex: 16834 entries, 0 to 16833\n",
      "Data columns (total 16 columns):\n",
      " #   Column                Non-Null Count  Dtype         \n",
      "---  ------                --------------  -----         \n",
      " 0   Date                  16834 non-null  datetime64[ns]\n",
      " 1   product               16834 non-null  object        \n",
      " 2   phase                 16834 non-null  object        \n",
      " 3   campaign_platform     16834 non-null  object        \n",
      " 4   campaign_type         16834 non-null  object        \n",
      " 5   communication_medium  16834 non-null  object        \n",
      " 6   subchannel            16834 non-null  object        \n",
      " 7   audience_type         16834 non-null  object        \n",
      " 8   creative_type         16834 non-null  object        \n",
      " 9   creative_name         16834 non-null  object        \n",
      " 10  device                16834 non-null  object        \n",
      " 11  age                   16834 non-null  object        \n",
      " 12  spends                16834 non-null  float64       \n",
      " 13  impressions           16834 non-null  float64       \n",
      " 14  clicks                16834 non-null  float64       \n",
      " 15  link_clicks           16288 non-null  float64       \n",
      "dtypes: datetime64[ns](1), float64(4), object(11)\n",
      "memory usage: 2.1+ MB\n"
     ]
    }
   ],
   "source": [
    "df[['impressions', 'clicks']] = df[['impressions', 'clicks']].astype(float) \n",
    "df.info()"
   ]
  },
  {
   "cell_type": "markdown",
   "metadata": {},
   "source": [
    "# Exploratory Data Analysis"
   ]
  },
  {
   "cell_type": "markdown",
   "metadata": {},
   "source": [
    "# Checking null values in the columns "
   ]
  },
  {
   "cell_type": "code",
   "execution_count": 7,
   "metadata": {},
   "outputs": [
    {
     "data": {
      "text/plain": [
       "Date                      0\n",
       "product                   0\n",
       "phase                     0\n",
       "campaign_platform         0\n",
       "campaign_type             0\n",
       "communication_medium      0\n",
       "subchannel                0\n",
       "audience_type             0\n",
       "creative_type             0\n",
       "creative_name             0\n",
       "device                    0\n",
       "age                       0\n",
       "spends                    0\n",
       "impressions               0\n",
       "clicks                    0\n",
       "link_clicks             546\n",
       "dtype: int64"
      ]
     },
     "execution_count": 7,
     "metadata": {},
     "output_type": "execute_result"
    }
   ],
   "source": [
    "df.isnull().sum() #link_clicks have null values"
   ]
  },
  {
   "cell_type": "code",
   "execution_count": 8,
   "metadata": {},
   "outputs": [
    {
     "data": {
      "text/plain": [
       "0.0      15101\n",
       "1.0        233\n",
       "2.0        104\n",
       "3.0         87\n",
       "4.0         64\n",
       "5.0         47\n",
       "7.0         43\n",
       "6.0         31\n",
       "8.0         30\n",
       "9.0         27\n",
       "11.0        24\n",
       "17.0        18\n",
       "18.0        18\n",
       "15.0        17\n",
       "10.0        16\n",
       "12.0        16\n",
       "14.0        15\n",
       "20.0        14\n",
       "21.0        14\n",
       "24.0        13\n",
       "23.0        13\n",
       "25.0        12\n",
       "34.0        10\n",
       "22.0        10\n",
       "41.0         9\n",
       "28.0         9\n",
       "16.0         9\n",
       "31.0         8\n",
       "30.0         8\n",
       "40.0         7\n",
       "33.0         7\n",
       "38.0         7\n",
       "26.0         7\n",
       "13.0         7\n",
       "29.0         6\n",
       "27.0         6\n",
       "44.0         6\n",
       "36.0         6\n",
       "19.0         6\n",
       "70.0         6\n",
       "47.0         5\n",
       "43.0         5\n",
       "39.0         5\n",
       "42.0         4\n",
       "49.0         4\n",
       "62.0         4\n",
       "46.0         4\n",
       "45.0         4\n",
       "65.0         3\n",
       "59.0         3\n",
       "67.0         3\n",
       "37.0         3\n",
       "75.0         3\n",
       "84.0         3\n",
       "94.0         3\n",
       "93.0         3\n",
       "76.0         3\n",
       "60.0         3\n",
       "92.0         3\n",
       "72.0         3\n",
       "54.0         3\n",
       "99.0         2\n",
       "63.0         2\n",
       "53.0         2\n",
       "48.0         2\n",
       "32.0         2\n",
       "96.0         2\n",
       "260.0        2\n",
       "50.0         2\n",
       "55.0         2\n",
       "61.0         2\n",
       "83.0         2\n",
       "126.0        2\n",
       "97.0         2\n",
       "58.0         2\n",
       "270.0        2\n",
       "56.0         2\n",
       "266.0        2\n",
       "77.0         2\n",
       "86.0         2\n",
       "66.0         2\n",
       "190.0        2\n",
       "95.0         2\n",
       "276.0        2\n",
       "35.0         2\n",
       "226.0        1\n",
       "321.0        1\n",
       "431.0        1\n",
       "135.0        1\n",
       "207.0        1\n",
       "137.0        1\n",
       "102.0        1\n",
       "82.0         1\n",
       "125.0        1\n",
       "168.0        1\n",
       "252.0        1\n",
       "101.0        1\n",
       "193.0        1\n",
       "379.0        1\n",
       "140.0        1\n",
       "335.0        1\n",
       "269.0        1\n",
       "385.0        1\n",
       "149.0        1\n",
       "122.0        1\n",
       "134.0        1\n",
       "383.0        1\n",
       "333.0        1\n",
       "85.0         1\n",
       "177.0        1\n",
       "68.0         1\n",
       "151.0        1\n",
       "192.0        1\n",
       "382.0        1\n",
       "324.0        1\n",
       "89.0         1\n",
       "110.0        1\n",
       "358.0        1\n",
       "450.0        1\n",
       "284.0        1\n",
       "98.0         1\n",
       "119.0        1\n",
       "230.0        1\n",
       "114.0        1\n",
       "210.0        1\n",
       "414.0        1\n",
       "159.0        1\n",
       "187.0        1\n",
       "299.0        1\n",
       "153.0        1\n",
       "81.0         1\n",
       "104.0        1\n",
       "80.0         1\n",
       "290.0        1\n",
       "138.0        1\n",
       "103.0        1\n",
       "131.0        1\n",
       "71.0         1\n",
       "300.0        1\n",
       "377.0        1\n",
       "277.0        1\n",
       "404.0        1\n",
       "354.0        1\n",
       "57.0         1\n",
       "111.0        1\n",
       "165.0        1\n",
       "222.0        1\n",
       "302.0        1\n",
       "363.0        1\n",
       "303.0        1\n",
       "308.0        1\n",
       "274.0        1\n",
       "161.0        1\n",
       "336.0        1\n",
       "108.0        1\n",
       "221.0        1\n",
       "244.0        1\n",
       "116.0        1\n",
       "88.0         1\n",
       "327.0        1\n",
       "Name: link_clicks, dtype: int64"
      ]
     },
     "execution_count": 8,
     "metadata": {},
     "output_type": "execute_result"
    }
   ],
   "source": [
    "df['link_clicks'].value_counts()   #Here looking at the values we can say that people have not clicked most number of times  "
   ]
  },
  {
   "cell_type": "markdown",
   "metadata": {},
   "source": [
    "# Replacing missing values with 0 since values of 0 are comparitively much higher in the column, so I preferred to take 0 instead of the mean because it would be unfair to to expect clicking on our ad without any data or proof. "
   ]
  },
  {
   "cell_type": "code",
   "execution_count": 9,
   "metadata": {},
   "outputs": [],
   "source": [
    "df['link_clicks'].fillna(0, inplace=True)"
   ]
  },
  {
   "cell_type": "code",
   "execution_count": 10,
   "metadata": {},
   "outputs": [
    {
     "data": {
      "text/plain": [
       "0.0      15647\n",
       "1.0        233\n",
       "2.0        104\n",
       "3.0         87\n",
       "4.0         64\n",
       "5.0         47\n",
       "7.0         43\n",
       "6.0         31\n",
       "8.0         30\n",
       "9.0         27\n",
       "11.0        24\n",
       "17.0        18\n",
       "18.0        18\n",
       "15.0        17\n",
       "10.0        16\n",
       "12.0        16\n",
       "14.0        15\n",
       "20.0        14\n",
       "21.0        14\n",
       "24.0        13\n",
       "23.0        13\n",
       "25.0        12\n",
       "34.0        10\n",
       "22.0        10\n",
       "41.0         9\n",
       "28.0         9\n",
       "16.0         9\n",
       "31.0         8\n",
       "30.0         8\n",
       "40.0         7\n",
       "33.0         7\n",
       "38.0         7\n",
       "26.0         7\n",
       "13.0         7\n",
       "29.0         6\n",
       "27.0         6\n",
       "44.0         6\n",
       "36.0         6\n",
       "19.0         6\n",
       "70.0         6\n",
       "47.0         5\n",
       "43.0         5\n",
       "39.0         5\n",
       "42.0         4\n",
       "49.0         4\n",
       "62.0         4\n",
       "46.0         4\n",
       "45.0         4\n",
       "65.0         3\n",
       "59.0         3\n",
       "67.0         3\n",
       "37.0         3\n",
       "75.0         3\n",
       "84.0         3\n",
       "94.0         3\n",
       "93.0         3\n",
       "76.0         3\n",
       "60.0         3\n",
       "92.0         3\n",
       "72.0         3\n",
       "54.0         3\n",
       "99.0         2\n",
       "63.0         2\n",
       "53.0         2\n",
       "48.0         2\n",
       "32.0         2\n",
       "96.0         2\n",
       "260.0        2\n",
       "50.0         2\n",
       "55.0         2\n",
       "61.0         2\n",
       "83.0         2\n",
       "126.0        2\n",
       "97.0         2\n",
       "58.0         2\n",
       "270.0        2\n",
       "56.0         2\n",
       "266.0        2\n",
       "77.0         2\n",
       "86.0         2\n",
       "66.0         2\n",
       "190.0        2\n",
       "95.0         2\n",
       "276.0        2\n",
       "35.0         2\n",
       "226.0        1\n",
       "321.0        1\n",
       "431.0        1\n",
       "135.0        1\n",
       "207.0        1\n",
       "137.0        1\n",
       "102.0        1\n",
       "82.0         1\n",
       "125.0        1\n",
       "168.0        1\n",
       "252.0        1\n",
       "101.0        1\n",
       "193.0        1\n",
       "379.0        1\n",
       "140.0        1\n",
       "335.0        1\n",
       "269.0        1\n",
       "385.0        1\n",
       "149.0        1\n",
       "122.0        1\n",
       "134.0        1\n",
       "383.0        1\n",
       "333.0        1\n",
       "85.0         1\n",
       "177.0        1\n",
       "68.0         1\n",
       "151.0        1\n",
       "192.0        1\n",
       "382.0        1\n",
       "324.0        1\n",
       "89.0         1\n",
       "110.0        1\n",
       "358.0        1\n",
       "450.0        1\n",
       "284.0        1\n",
       "98.0         1\n",
       "119.0        1\n",
       "230.0        1\n",
       "114.0        1\n",
       "210.0        1\n",
       "414.0        1\n",
       "159.0        1\n",
       "187.0        1\n",
       "299.0        1\n",
       "153.0        1\n",
       "81.0         1\n",
       "104.0        1\n",
       "80.0         1\n",
       "290.0        1\n",
       "138.0        1\n",
       "103.0        1\n",
       "131.0        1\n",
       "71.0         1\n",
       "300.0        1\n",
       "377.0        1\n",
       "277.0        1\n",
       "404.0        1\n",
       "354.0        1\n",
       "57.0         1\n",
       "111.0        1\n",
       "165.0        1\n",
       "222.0        1\n",
       "302.0        1\n",
       "363.0        1\n",
       "303.0        1\n",
       "308.0        1\n",
       "274.0        1\n",
       "161.0        1\n",
       "336.0        1\n",
       "108.0        1\n",
       "221.0        1\n",
       "244.0        1\n",
       "116.0        1\n",
       "88.0         1\n",
       "327.0        1\n",
       "Name: link_clicks, dtype: int64"
      ]
     },
     "execution_count": 10,
     "metadata": {},
     "output_type": "execute_result"
    }
   ],
   "source": [
    "df['link_clicks'].value_counts()"
   ]
  },
  {
   "cell_type": "markdown",
   "metadata": {},
   "source": [
    "# Comparison between number of times customers did normal clicks and link clicks"
   ]
  },
  {
   "cell_type": "code",
   "execution_count": 11,
   "metadata": {},
   "outputs": [
    {
     "data": {
      "text/plain": [
       "16834"
      ]
     },
     "execution_count": 11,
     "metadata": {},
     "output_type": "execute_result"
    }
   ],
   "source": [
    "df['clicks'].count()"
   ]
  },
  {
   "cell_type": "code",
   "execution_count": 12,
   "metadata": {},
   "outputs": [
    {
     "data": {
      "text/plain": [
       "16834"
      ]
     },
     "execution_count": 12,
     "metadata": {},
     "output_type": "execute_result"
    }
   ],
   "source": [
    "df['link_clicks'].count()"
   ]
  },
  {
   "cell_type": "markdown",
   "metadata": {},
   "source": [
    "# Understanding our Variables and their values"
   ]
  },
  {
   "cell_type": "code",
   "execution_count": 13,
   "metadata": {},
   "outputs": [
    {
     "data": {
      "text/plain": [
       "Product 1    16834\n",
       "Name: product, dtype: int64"
      ]
     },
     "execution_count": 13,
     "metadata": {},
     "output_type": "execute_result"
    }
   ],
   "source": [
    "df['product'].value_counts() #This shows that we are only advertising one product"
   ]
  },
  {
   "cell_type": "code",
   "execution_count": 14,
   "metadata": {},
   "outputs": [
    {
     "data": {
      "text/plain": [
       "Performance    16834\n",
       "Name: phase, dtype: int64"
      ]
     },
     "execution_count": 14,
     "metadata": {},
     "output_type": "execute_result"
    }
   ],
   "source": [
    "df['phase'].value_counts()"
   ]
  },
  {
   "cell_type": "code",
   "execution_count": 15,
   "metadata": {},
   "outputs": [],
   "source": [
    "def categorical_data(name, title):\n",
    "    fig, axs = plt.subplots(1,2,figsize=(14,7))\n",
    "    sns.countplot(name, ax=axs[0])\n",
    "    axs[0].set_title(\"Frequency distribution of \" + title)\n",
    "    name.value_counts().plot(x = None,y=None,kind = 'pie', ax = axs[1],autopct='%1.2f%%')\n",
    "    axs[1].set_title('Percentage Distribution of ' + title)\n",
    "    plt.legend()\n",
    "    plt.show()"
   ]
  },
  {
   "cell_type": "code",
   "execution_count": 16,
   "metadata": {},
   "outputs": [],
   "source": [
    "def numeric_data(name):\n",
    "    fig, ax = plt.subplots(nrows=1,ncols=2, figsize=(14,7))\n",
    "    sns.distplot(name, ax=ax[0])\n",
    "    sns.boxplot(name, orient='v', color='r', ax=ax[1])\n",
    "    plt.show()\n"
   ]
  },
  {
   "cell_type": "code",
   "execution_count": 17,
   "metadata": {},
   "outputs": [
    {
     "data": {
      "text/plain": [
       "Google Ads      15101\n",
       "Facebook Ads     1733\n",
       "Name: campaign_platform, dtype: int64"
      ]
     },
     "execution_count": 17,
     "metadata": {},
     "output_type": "execute_result"
    }
   ],
   "source": [
    "df['campaign_platform'].value_counts() #Here it shows that advertisement by Google are much higher than the Facebook. "
   ]
  },
  {
   "cell_type": "markdown",
   "metadata": {},
   "source": [
    "# Here we can see that Google Ads are much more used than Facebook ads to interact with our customers, so we should try to advertise more on Google ads and we should focus more on FB ads to increase their interaction with audience"
   ]
  },
  {
   "cell_type": "code",
   "execution_count": 18,
   "metadata": {},
   "outputs": [
    {
     "data": {
      "image/png": "[encoded data removed]",
      "text/plain": [
       "<Figure size 1008x504 with 2 Axes>"
      ]
     },
     "metadata": {
      "needs_background": "light"
     },
     "output_type": "display_data"
    }
   ],
   "source": [
    "categorical_data(df['campaign_platform'], 'Campaign Platform')"
   ]
  },
  {
   "cell_type": "code",
   "execution_count": 19,
   "metadata": {},
   "outputs": [
    {
     "data": {
      "text/plain": [
       "Search         15101\n",
       "Conversions     1733\n",
       "Name: campaign_type, dtype: int64"
      ]
     },
     "execution_count": 19,
     "metadata": {},
     "output_type": "execute_result"
    }
   ],
   "source": [
    "df['campaign_type'].value_counts()"
   ]
  },
  {
   "cell_type": "markdown",
   "metadata": {},
   "source": [
    "# Here we can see that search campaigns are more compared to the conversion campaigns, people tend to get advertised about our product more through the means of their searching than their browsing conversion."
   ]
  },
  {
   "cell_type": "code",
   "execution_count": 20,
   "metadata": {},
   "outputs": [
    {
     "data": {
      "image/png": "[encoded data removed]",
      "text/plain": [
       "<Figure size 1008x504 with 2 Axes>"
      ]
     },
     "metadata": {
      "needs_background": "light"
     },
     "output_type": "display_data"
    }
   ],
   "source": [
    "categorical_data(df['campaign_type'], \"Campaign_Type\")"
   ]
  },
  {
   "cell_type": "code",
   "execution_count": 21,
   "metadata": {},
   "outputs": [
    {
     "data": {
      "text/plain": [
       "'-            15101\n",
       "Audience 1      813\n",
       "Audience 2      738\n",
       "Audience 3      182\n",
       "Name: audience_type, dtype: int64"
      ]
     },
     "execution_count": 21,
     "metadata": {},
     "output_type": "execute_result"
    }
   ],
   "source": [
    "df['audience_type'].value_counts()"
   ]
  },
  {
   "cell_type": "code",
   "execution_count": 22,
   "metadata": {},
   "outputs": [],
   "source": [
    "df['audience_type'].replace({\"'-\" : 'Unknown_Audience_Type'}, inplace= True)"
   ]
  },
  {
   "cell_type": "code",
   "execution_count": 23,
   "metadata": {},
   "outputs": [
    {
     "data": {
      "text/plain": [
       "Unknown_Audience_Type    15101\n",
       "Audience 1                 813\n",
       "Audience 2                 738\n",
       "Audience 3                 182\n",
       "Name: audience_type, dtype: int64"
      ]
     },
     "execution_count": 23,
     "metadata": {},
     "output_type": "execute_result"
    }
   ],
   "source": [
    "df['audience_type'].value_counts()"
   ]
  },
  {
   "cell_type": "markdown",
   "metadata": {},
   "source": [
    "# From the available data, Audience 2 are more interacted compared to the Audience 1 and Audience 3, ignoring the unknown data."
   ]
  },
  {
   "cell_type": "code",
   "execution_count": 24,
   "metadata": {},
   "outputs": [
    {
     "data": {
      "image/png": "[encoded data removed]",
      "text/plain": [
       "<Figure size 1008x504 with 2 Axes>"
      ]
     },
     "metadata": {
      "needs_background": "light"
     },
     "output_type": "display_data"
    }
   ],
   "source": [
    "categorical_data(df['audience_type'],\"Audience_Type\")"
   ]
  },
  {
   "cell_type": "code",
   "execution_count": 25,
   "metadata": {},
   "outputs": [
    {
     "data": {
      "text/plain": [
       "'-          15101\n",
       "Image        1130\n",
       "Carousal      603\n",
       "Name: creative_type, dtype: int64"
      ]
     },
     "execution_count": 25,
     "metadata": {},
     "output_type": "execute_result"
    }
   ],
   "source": [
    "df['creative_type'].value_counts()"
   ]
  },
  {
   "cell_type": "markdown",
   "metadata": {},
   "source": [
    "# In comparison audience is attracted more towards the Images than the carousal type of advertisements, there may be many factors to this result, since the carousal ads may require more data and time for its showcasing so people might tend to ignore it, therefore images can perform better and faster to interact with audience."
   ]
  },
  {
   "cell_type": "code",
   "execution_count": 26,
   "metadata": {},
   "outputs": [
    {
     "data": {
      "image/png": "[encoded data removed]",
      "text/plain": [
       "<Figure size 1008x504 with 2 Axes>"
      ]
     },
     "metadata": {
      "needs_background": "light"
     },
     "output_type": "display_data"
    }
   ],
   "source": [
    "categorical_data(df['creative_type'],\"Creative_type\")"
   ]
  },
  {
   "cell_type": "code",
   "execution_count": 27,
   "metadata": {},
   "outputs": [
    {
     "data": {
      "text/plain": [
       "Mobile     7357\n",
       "Desktop    6318\n",
       "device     1733\n",
       "Tablet     1426\n",
       "Name: device, dtype: int64"
      ]
     },
     "execution_count": 27,
     "metadata": {},
     "output_type": "execute_result"
    }
   ],
   "source": [
    "df['device'].value_counts()"
   ]
  },
  {
   "cell_type": "markdown",
   "metadata": {},
   "source": [
    "# Following graph shows that audience getting interacted with the mobiles more than the Desktop, other devices and tablets."
   ]
  },
  {
   "cell_type": "code",
   "execution_count": 28,
   "metadata": {},
   "outputs": [
    {
     "data": {
      "image/png": "[encoded data removed]",
      "text/plain": [
       "<Figure size 1008x504 with 2 Axes>"
      ]
     },
     "metadata": {
      "needs_background": "light"
     },
     "output_type": "display_data"
    }
   ],
   "source": [
    "categorical_data(df['device'],\"Device\")"
   ]
  },
  {
   "cell_type": "code",
   "execution_count": 29,
   "metadata": {},
   "outputs": [
    {
     "data": {
      "text/plain": [
       "25-34           3097\n",
       "35-44           2865\n",
       "Undetermined    2586\n",
       "45-54           2499\n",
       "18-24           2472\n",
       "55-64           1757\n",
       "65 or more      1558\n",
       "Name: age, dtype: int64"
      ]
     },
     "execution_count": 29,
     "metadata": {},
     "output_type": "execute_result"
    }
   ],
   "source": [
    "df['age'].value_counts()"
   ]
  },
  {
   "cell_type": "markdown",
   "metadata": {},
   "source": [
    "# Looking at the plotted graph we can clearly see that young age group i.e. below 45 are interested more in our brand, compared to the old age people above 45. Age group of 25-35 are interested more in our product then its followed by age group of 35-45. People above the age of 65 are least interested in our product.\n"
   ]
  },
  {
   "cell_type": "code",
   "execution_count": 30,
   "metadata": {},
   "outputs": [
    {
     "data": {
      "image/png": "[encoded data removed]",
      "text/plain": [
       "<Figure size 1008x504 with 2 Axes>"
      ]
     },
     "metadata": {
      "needs_background": "light"
     },
     "output_type": "display_data"
    }
   ],
   "source": [
    "categorical_data(df['age'], \"Age Groups\")"
   ]
  },
  {
   "cell_type": "code",
   "execution_count": 31,
   "metadata": {},
   "outputs": [
    {
     "data": {
      "image/png": "[encoded data removed]",
      "text/plain": [
       "<Figure size 1008x504 with 2 Axes>"
      ]
     },
     "metadata": {
      "needs_background": "light"
     },
     "output_type": "display_data"
    }
   ],
   "source": [
    "numeric_data(df['spends'])"
   ]
  },
  {
   "cell_type": "code",
   "execution_count": 32,
   "metadata": {},
   "outputs": [
    {
     "data": {
      "image/png": "[encoded data removed]",
      "text/plain": [
       "<Figure size 1008x504 with 2 Axes>"
      ]
     },
     "metadata": {
      "needs_background": "light"
     },
     "output_type": "display_data"
    }
   ],
   "source": [
    "numeric_data(df['impressions'])"
   ]
  },
  {
   "cell_type": "markdown",
   "metadata": {},
   "source": [
    "# Monthly spends"
   ]
  },
  {
   "cell_type": "code",
   "execution_count": 33,
   "metadata": {},
   "outputs": [
    {
     "data": {
      "text/plain": [
       "<matplotlib.axes._subplots.AxesSubplot at 0x2320295f790>"
      ]
     },
     "execution_count": 33,
     "metadata": {},
     "output_type": "execute_result"
    },
    {
     "data": {
      "image/png": "[encoded data removed]",
      "text/plain": [
       "<Figure size 576x288 with 1 Axes>"
      ]
     },
     "metadata": {
      "needs_background": "light"
     },
     "output_type": "display_data"
    }
   ],
   "source": [
    "date = df.set_index('Date')\n",
    "date.resample('MS')['spends'].sum().plot.area(figsize=(8,4),alpha=0.4)"
   ]
  },
  {
   "cell_type": "markdown",
   "metadata": {},
   "source": [
    "# Relation between clicks and link_clicks"
   ]
  },
  {
   "cell_type": "markdown",
   "metadata": {},
   "source": [
    "#  Here we can see numbers of clicks and linck_clicks are same, this shows that customers have direct Click to action () in our dataset."
   ]
  },
  {
   "cell_type": "code",
   "execution_count": 34,
   "metadata": {},
   "outputs": [
    {
     "data": {
      "image/png": "[encoded data removed]",
      "text/plain": [
       "<Figure size 432x288 with 1 Axes>"
      ]
     },
     "metadata": {
      "needs_background": "light"
     },
     "output_type": "display_data"
    }
   ],
   "source": [
    "Count = [df['clicks'].count(),df['link_clicks'].count()]\n",
    "bars = ('Clicks', 'Link_Clicks')\n",
    "y_pos = np.arange(len(bars))\n",
    "plt.bar(y_pos, Count, color =('red', 'blue'))\n",
    "plt.xticks(y_pos, bars)\n",
    "plt.show()"
   ]
  },
  {
   "cell_type": "code",
   "execution_count": 35,
   "metadata": {},
   "outputs": [
    {
     "data": {
      "text/plain": [
       "<seaborn.axisgrid.JointGrid at 0x232028e4190>"
      ]
     },
     "execution_count": 35,
     "metadata": {},
     "output_type": "execute_result"
    },
    {
     "data": {
      "image/png": "[encoded data removed]",
      "text/plain": [
       "<Figure size 432x432 with 3 Axes>"
      ]
     },
     "metadata": {
      "needs_background": "light"
     },
     "output_type": "display_data"
    }
   ],
   "source": [
    "sns.jointplot(x='link_clicks', y= 'clicks', data=df, color='blue')"
   ]
  },
  {
   "cell_type": "markdown",
   "metadata": {},
   "source": [
    "# Correlation between numeric variables"
   ]
  },
  {
   "cell_type": "code",
   "execution_count": 36,
   "metadata": {},
   "outputs": [
    {
     "data": {
      "text/html": [
       "<div>\n",
       "<style scoped>\n",
       "    .dataframe tbody tr th:only-of-type {\n",
       "        vertical-align: middle;\n",
       "    }\n",
       "\n",
       "    .dataframe tbody tr th {\n",
       "        vertical-align: top;\n",
       "    }\n",
       "\n",
       "    .dataframe thead th {\n",
       "        text-align: right;\n",
       "    }\n",
       "</style>\n",
       "<table border=\"1\" class=\"dataframe\">\n",
       "  <thead>\n",
       "    <tr style=\"text-align: right;\">\n",
       "      <th></th>\n",
       "      <th>spends</th>\n",
       "      <th>impressions</th>\n",
       "      <th>clicks</th>\n",
       "      <th>link_clicks</th>\n",
       "    </tr>\n",
       "  </thead>\n",
       "  <tbody>\n",
       "    <tr>\n",
       "      <th>spends</th>\n",
       "      <td>1.000000</td>\n",
       "      <td>0.744552</td>\n",
       "      <td>0.838371</td>\n",
       "      <td>0.697143</td>\n",
       "    </tr>\n",
       "    <tr>\n",
       "      <th>impressions</th>\n",
       "      <td>0.744552</td>\n",
       "      <td>1.000000</td>\n",
       "      <td>0.917512</td>\n",
       "      <td>0.963112</td>\n",
       "    </tr>\n",
       "    <tr>\n",
       "      <th>clicks</th>\n",
       "      <td>0.838371</td>\n",
       "      <td>0.917512</td>\n",
       "      <td>1.000000</td>\n",
       "      <td>0.925325</td>\n",
       "    </tr>\n",
       "    <tr>\n",
       "      <th>link_clicks</th>\n",
       "      <td>0.697143</td>\n",
       "      <td>0.963112</td>\n",
       "      <td>0.925325</td>\n",
       "      <td>1.000000</td>\n",
       "    </tr>\n",
       "  </tbody>\n",
       "</table>\n",
       "</div>"
      ],
      "text/plain": [
       "               spends  impressions    clicks  link_clicks\n",
       "spends       1.000000     0.744552  0.838371     0.697143\n",
       "impressions  0.744552     1.000000  0.917512     0.963112\n",
       "clicks       0.838371     0.917512  1.000000     0.925325\n",
       "link_clicks  0.697143     0.963112  0.925325     1.000000"
      ]
     },
     "execution_count": 36,
     "metadata": {},
     "output_type": "execute_result"
    }
   ],
   "source": [
    "df.corr()"
   ]
  },
  {
   "cell_type": "markdown",
   "metadata": {},
   "source": [
    "# Pairplot of numeric Variables"
   ]
  },
  {
   "cell_type": "code",
   "execution_count": 37,
   "metadata": {},
   "outputs": [
    {
     "data": {
      "image/png": "[encoded data removed]",
      "text/plain": [
       "<Figure size 576x432 with 2 Axes>"
      ]
     },
     "metadata": {
      "needs_background": "light"
     },
     "output_type": "display_data"
    }
   ],
   "source": [
    "plt.figure(figsize=(8,6))\n",
    "sns.heatmap(df.corr())\n",
    "plt.show()"
   ]
  },
  {
   "cell_type": "markdown",
   "metadata": {},
   "source": [
    "# Here we can say that link_clicks is all we are looking for so we consider link_clicks dependent or target variable and all other independent variables for Model Building"
   ]
  },
  {
   "cell_type": "markdown",
   "metadata": {},
   "source": [
    "# Since the Product and Phase variables have only one class so it can be eliminated while building our model so that we can get more precise result. Eliminating Date Variable too because it wont be important for our prediction."
   ]
  },
  {
   "cell_type": "code",
   "execution_count": 38,
   "metadata": {},
   "outputs": [],
   "source": [
    "df.drop([\"Date\",\"product\",\"phase\"],axis=1, inplace=True)"
   ]
  },
  {
   "cell_type": "markdown",
   "metadata": {},
   "source": [
    "# Splitting X and Y"
   ]
  },
  {
   "cell_type": "code",
   "execution_count": 39,
   "metadata": {},
   "outputs": [],
   "source": [
    "X = df.iloc[:,:-1].values\n",
    "Y = df.iloc[:,-1].values"
   ]
  },
  {
   "cell_type": "code",
   "execution_count": null,
   "metadata": {},
   "outputs": [],
   "source": []
  },
  {
   "cell_type": "markdown",
   "metadata": {},
   "source": [
    "# Encoding Categorical Variables"
   ]
  },
  {
   "cell_type": "markdown",
   "metadata": {},
   "source": [
    "# Label Encoding Object Variables"
   ]
  },
  {
   "cell_type": "code",
   "execution_count": 40,
   "metadata": {},
   "outputs": [],
   "source": [
    "from sklearn.preprocessing import LabelEncoder\n",
    "le = LabelEncoder()\n",
    "df['campaign_platform'] = le.fit_transform (df ['campaign_platform'])\n",
    "df['campaign_type'] = le.fit_transform (df ['campaign_type'])\n",
    "df['communication_medium'] = le.fit_transform (df ['communication_medium'])\n",
    "df['subchannel'] = le.fit_transform (df ['subchannel'])\n",
    "df['audience_type'] = le.fit_transform (df ['audience_type'])\n",
    "df['creative_type'] = le.fit_transform (df ['creative_type'])\n",
    "df['creative_name'] = le.fit_transform (df ['creative_name'])\n",
    "df['device'] = le.fit_transform (df ['device'])\n",
    "df['age'] = le.fit_transform (df ['age'])"
   ]
  },
  {
   "cell_type": "code",
   "execution_count": 41,
   "metadata": {},
   "outputs": [
    {
     "name": "stdout",
     "output_type": "stream",
     "text": [
      "<class 'pandas.core.frame.DataFrame'>\n",
      "RangeIndex: 16834 entries, 0 to 16833\n",
      "Data columns (total 13 columns):\n",
      " #   Column                Non-Null Count  Dtype  \n",
      "---  ------                --------------  -----  \n",
      " 0   campaign_platform     16834 non-null  int32  \n",
      " 1   campaign_type         16834 non-null  int32  \n",
      " 2   communication_medium  16834 non-null  int32  \n",
      " 3   subchannel            16834 non-null  int32  \n",
      " 4   audience_type         16834 non-null  int32  \n",
      " 5   creative_type         16834 non-null  int32  \n",
      " 6   creative_name         16834 non-null  int32  \n",
      " 7   device                16834 non-null  int32  \n",
      " 8   age                   16834 non-null  int32  \n",
      " 9   spends                16834 non-null  float64\n",
      " 10  impressions           16834 non-null  float64\n",
      " 11  clicks                16834 non-null  float64\n",
      " 12  link_clicks           16834 non-null  float64\n",
      "dtypes: float64(4), int32(9)\n",
      "memory usage: 1.1 MB\n"
     ]
    }
   ],
   "source": [
    "df.info()"
   ]
  },
  {
   "cell_type": "code",
   "execution_count": 42,
   "metadata": {},
   "outputs": [
    {
     "data": {
      "text/plain": [
       "(16834, 13)"
      ]
     },
     "execution_count": 42,
     "metadata": {},
     "output_type": "execute_result"
    }
   ],
   "source": [
    "df.shape"
   ]
  },
  {
   "cell_type": "markdown",
   "metadata": {},
   "source": [
    "# Creating X and Y"
   ]
  },
  {
   "cell_type": "code",
   "execution_count": 43,
   "metadata": {},
   "outputs": [],
   "source": [
    "X = df.values[:,:-1]\n",
    "Y = df.values[:,-1]"
   ]
  },
  {
   "cell_type": "markdown",
   "metadata": {},
   "source": [
    "# SCALING INDEPENDENT VARIABLES"
   ]
  },
  {
   "cell_type": "code",
   "execution_count": 44,
   "metadata": {},
   "outputs": [
    {
     "name": "stdout",
     "output_type": "stream",
     "text": [
      "[[ 0.33876336  0.33876336  0.33876336 ... -0.30729483 -0.1169865\n",
      "  -0.2673873 ]\n",
      " [ 0.33876336  0.33876336  0.33876336 ... -0.30729483 -0.11575919\n",
      "  -0.2673873 ]\n",
      " [ 0.33876336  0.33876336  0.33876336 ... -0.30729483 -0.1173956\n",
      "  -0.2673873 ]\n",
      " ...\n",
      " [ 0.33876336  0.33876336  0.33876336 ... -0.30729483 -0.1165774\n",
      "  -0.2673873 ]\n",
      " [ 0.33876336  0.33876336  0.33876336 ... -0.30729483 -0.1165774\n",
      "  -0.2673873 ]\n",
      " [ 0.33876336  0.33876336  0.33876336 ... -0.30440156 -0.11207727\n",
      "  -0.24506369]]\n"
     ]
    }
   ],
   "source": [
    "from sklearn.preprocessing import StandardScaler\n",
    "scaler=StandardScaler()\n",
    "X=scaler.fit_transform(X)\n",
    "print(X)"
   ]
  },
  {
   "cell_type": "markdown",
   "metadata": {},
   "source": [
    "# CONVERTING Y INTO AN INTEGER TYPE"
   ]
  },
  {
   "cell_type": "code",
   "execution_count": 45,
   "metadata": {},
   "outputs": [],
   "source": [
    "Y=Y.astype(int)"
   ]
  },
  {
   "cell_type": "markdown",
   "metadata": {},
   "source": [
    "# Splitting Data into Train and Test"
   ]
  },
  {
   "cell_type": "code",
   "execution_count": 46,
   "metadata": {},
   "outputs": [],
   "source": [
    "#SPLITTING THE DATA INTO TRAIN & TEST\n",
    "from sklearn.model_selection import train_test_split\n",
    "\n",
    "X_train,X_test,Y_train,Y_test=train_test_split(X,Y, test_size=0.3, random_state=101)"
   ]
  },
  {
   "cell_type": "markdown",
   "metadata": {},
   "source": [
    "# Linear Regression"
   ]
  },
  {
   "cell_type": "code",
   "execution_count": 47,
   "metadata": {},
   "outputs": [
    {
     "name": "stdout",
     "output_type": "stream",
     "text": [
      "2.1085438573091237\n",
      "[ 2.43378391e-01  2.43378391e-01  2.43378391e-01  2.92558143e-01\n",
      " -9.45598013e-01  3.82127205e+00 -2.74953442e+00 -3.68565636e-01\n",
      " -3.85163954e-04 -3.79296336e+00  1.20093642e+01  8.67569597e+00]\n"
     ]
    }
   ],
   "source": [
    "from sklearn.linear_model import LinearRegression\n",
    "#create a model\n",
    "lm = LinearRegression()\n",
    "\n",
    "#train a model\n",
    "lm.fit(X_train, Y_train)\n",
    "\n",
    "Y_pred = lm.predict(X_test)\n",
    "#print intercepts and coefficients\n",
    "print(lm.intercept_)\n",
    "print(lm.coef_)"
   ]
  },
  {
   "cell_type": "markdown",
   "metadata": {},
   "source": [
    "# EVALUATION METRICS"
   ]
  },
  {
   "cell_type": "code",
   "execution_count": 48,
   "metadata": {},
   "outputs": [
    {
     "name": "stdout",
     "output_type": "stream",
     "text": [
      "0.946498542272533\n",
      "3.746632602708003\n",
      "0.9464603746551067\n"
     ]
    }
   ],
   "source": [
    "from sklearn.metrics import r2_score,mean_squared_error\n",
    "import numpy as np\n",
    "\n",
    "r2=r2_score(Y_test,Y_pred)\n",
    "print(r2)\n",
    "\n",
    "rmse=np.sqrt(mean_squared_error(Y_test,Y_pred))\n",
    "print(rmse)\n",
    "\n",
    "adjusted_r_squared = 1 - (1-r2)*(len(Y)-1)/(len(Y)-X.shape[1]-1)\n",
    "print(adjusted_r_squared)"
   ]
  },
  {
   "cell_type": "code",
   "execution_count": 49,
   "metadata": {},
   "outputs": [],
   "source": [
    "col = ['Model', 'R-Squared Value', 'Adj.R-Squared Value', 'RMSE']\n",
    "models_report = pd.DataFrame(columns = col)\n"
   ]
  },
  {
   "cell_type": "code",
   "execution_count": 50,
   "metadata": {},
   "outputs": [
    {
     "data": {
      "text/html": [
       "<div>\n",
       "<style scoped>\n",
       "    .dataframe tbody tr th:only-of-type {\n",
       "        vertical-align: middle;\n",
       "    }\n",
       "\n",
       "    .dataframe tbody tr th {\n",
       "        vertical-align: top;\n",
       "    }\n",
       "\n",
       "    .dataframe thead th {\n",
       "        text-align: right;\n",
       "    }\n",
       "</style>\n",
       "<table border=\"1\" class=\"dataframe\">\n",
       "  <thead>\n",
       "    <tr style=\"text-align: right;\">\n",
       "      <th></th>\n",
       "      <th>Model</th>\n",
       "      <th>R-Squared Value</th>\n",
       "      <th>Adj.R-Squared Value</th>\n",
       "      <th>RMSE</th>\n",
       "    </tr>\n",
       "  </thead>\n",
       "  <tbody>\n",
       "    <tr>\n",
       "      <th>0</th>\n",
       "      <td>Base Linear Regression Model</td>\n",
       "      <td>0.946499</td>\n",
       "      <td>0.94646</td>\n",
       "      <td>3.746633</td>\n",
       "    </tr>\n",
       "  </tbody>\n",
       "</table>\n",
       "</div>"
      ],
      "text/plain": [
       "                          Model  R-Squared Value  Adj.R-Squared Value  \\\n",
       "0  Base Linear Regression Model         0.946499              0.94646   \n",
       "\n",
       "       RMSE  \n",
       "0  3.746633  "
      ]
     },
     "execution_count": 50,
     "metadata": {},
     "output_type": "execute_result"
    }
   ],
   "source": [
    "x = pd.Series({'Model': \"Base Linear Regression Model\",\n",
    "                  'R-Squared Value': r2,\n",
    "                  'Adj.R-Squared Value': adjusted_r_squared,\n",
    "                  'RMSE': rmse})\n",
    "\n",
    "models_report = models_report.append(x, ignore_index=True)\n",
    "models_report"
   ]
  },
  {
   "cell_type": "markdown",
   "metadata": {},
   "source": [
    "# Decision tree regressor"
   ]
  },
  {
   "cell_type": "code",
   "execution_count": 51,
   "metadata": {},
   "outputs": [],
   "source": [
    "from sklearn.tree import DecisionTreeRegressor\n",
    "#Create the model object\n",
    "model_DT=DecisionTreeRegressor(max_depth=10,random_state=10,min_samples_leaf=5)\n",
    "#Train the model\n",
    "model_DT.fit(X_train,Y_train)\n",
    "#Prediction\n",
    "Y_pred=model_DT.predict(X_test)\n"
   ]
  },
  {
   "cell_type": "code",
   "execution_count": 52,
   "metadata": {},
   "outputs": [
    {
     "name": "stdout",
     "output_type": "stream",
     "text": [
      "0.9828617876835846\n",
      "2.1205135882825643\n",
      "0.9828495613862303\n"
     ]
    }
   ],
   "source": [
    "#EVALUATION METRICS\n",
    "from sklearn.metrics import r2_score,mean_squared_error\n",
    "import numpy as np\n",
    "\n",
    "r2=r2_score(Y_test,Y_pred)\n",
    "print(r2)\n",
    "\n",
    "rmse=np.sqrt(mean_squared_error(Y_test,Y_pred))\n",
    "print(rmse)\n",
    "\n",
    "adjusted_r_squared = 1 - (1-r2)*(len(Y)-1)/(len(Y)-X.shape[1]-1)\n",
    "print(adjusted_r_squared)"
   ]
  },
  {
   "cell_type": "code",
   "execution_count": 53,
   "metadata": {},
   "outputs": [
    {
     "data": {
      "text/html": [
       "<div>\n",
       "<style scoped>\n",
       "    .dataframe tbody tr th:only-of-type {\n",
       "        vertical-align: middle;\n",
       "    }\n",
       "\n",
       "    .dataframe tbody tr th {\n",
       "        vertical-align: top;\n",
       "    }\n",
       "\n",
       "    .dataframe thead th {\n",
       "        text-align: right;\n",
       "    }\n",
       "</style>\n",
       "<table border=\"1\" class=\"dataframe\">\n",
       "  <thead>\n",
       "    <tr style=\"text-align: right;\">\n",
       "      <th></th>\n",
       "      <th>Model</th>\n",
       "      <th>R-Squared Value</th>\n",
       "      <th>Adj.R-Squared Value</th>\n",
       "      <th>RMSE</th>\n",
       "    </tr>\n",
       "  </thead>\n",
       "  <tbody>\n",
       "    <tr>\n",
       "      <th>0</th>\n",
       "      <td>Base Linear Regression Model</td>\n",
       "      <td>0.946499</td>\n",
       "      <td>0.94646</td>\n",
       "      <td>3.746633</td>\n",
       "    </tr>\n",
       "    <tr>\n",
       "      <th>1</th>\n",
       "      <td>Base Decision tree</td>\n",
       "      <td>0.982862</td>\n",
       "      <td>0.98285</td>\n",
       "      <td>2.120514</td>\n",
       "    </tr>\n",
       "  </tbody>\n",
       "</table>\n",
       "</div>"
      ],
      "text/plain": [
       "                          Model  R-Squared Value  Adj.R-Squared Value  \\\n",
       "0  Base Linear Regression Model         0.946499              0.94646   \n",
       "1            Base Decision tree         0.982862              0.98285   \n",
       "\n",
       "       RMSE  \n",
       "0  3.746633  \n",
       "1  2.120514  "
      ]
     },
     "execution_count": 53,
     "metadata": {},
     "output_type": "execute_result"
    }
   ],
   "source": [
    "x2 = pd.Series({'Model': \"Base Decision tree\",\n",
    "                  'R-Squared Value': r2,\n",
    "                  'Adj.R-Squared Value': adjusted_r_squared,\n",
    "                  'RMSE': rmse})\n",
    "\n",
    "models_report = models_report.append(x2, ignore_index=True)\n",
    "models_report"
   ]
  },
  {
   "cell_type": "markdown",
   "metadata": {},
   "source": [
    "# Extra tree Classifier"
   ]
  },
  {
   "cell_type": "code",
   "execution_count": 54,
   "metadata": {},
   "outputs": [],
   "source": [
    "from sklearn.ensemble import ExtraTreesRegressor\n",
    "#create a model object \n",
    "model=ExtraTreesRegressor(100,random_state=101)\n",
    "#fit the model on the data and predict the values\n",
    "model=model.fit(X_train,Y_train)\n",
    "#predict\n",
    "Y_pred=model.predict(X_test)"
   ]
  },
  {
   "cell_type": "code",
   "execution_count": 55,
   "metadata": {},
   "outputs": [
    {
     "name": "stdout",
     "output_type": "stream",
     "text": [
      "0.9922157358235673\n",
      "1.429114690379247\n",
      "0.9922101825764287\n"
     ]
    }
   ],
   "source": [
    "#EVALUATION METRICS\n",
    "from sklearn.metrics import r2_score,mean_squared_error\n",
    "import numpy as np\n",
    "\n",
    "r2=r2_score(Y_test,Y_pred)\n",
    "print(r2)\n",
    "\n",
    "rmse=np.sqrt(mean_squared_error(Y_test,Y_pred))\n",
    "print(rmse)\n",
    "\n",
    "adjusted_r_squared = 1 - (1-r2)*(len(Y)-1)/(len(Y)-X.shape[1]-1)\n",
    "print(adjusted_r_squared)"
   ]
  },
  {
   "cell_type": "code",
   "execution_count": 56,
   "metadata": {},
   "outputs": [
    {
     "data": {
      "text/html": [
       "<div>\n",
       "<style scoped>\n",
       "    .dataframe tbody tr th:only-of-type {\n",
       "        vertical-align: middle;\n",
       "    }\n",
       "\n",
       "    .dataframe tbody tr th {\n",
       "        vertical-align: top;\n",
       "    }\n",
       "\n",
       "    .dataframe thead th {\n",
       "        text-align: right;\n",
       "    }\n",
       "</style>\n",
       "<table border=\"1\" class=\"dataframe\">\n",
       "  <thead>\n",
       "    <tr style=\"text-align: right;\">\n",
       "      <th></th>\n",
       "      <th>Model</th>\n",
       "      <th>R-Squared Value</th>\n",
       "      <th>Adj.R-Squared Value</th>\n",
       "      <th>RMSE</th>\n",
       "    </tr>\n",
       "  </thead>\n",
       "  <tbody>\n",
       "    <tr>\n",
       "      <th>0</th>\n",
       "      <td>Base Linear Regression Model</td>\n",
       "      <td>0.946499</td>\n",
       "      <td>0.94646</td>\n",
       "      <td>3.746633</td>\n",
       "    </tr>\n",
       "    <tr>\n",
       "      <th>1</th>\n",
       "      <td>Base Decision tree</td>\n",
       "      <td>0.982862</td>\n",
       "      <td>0.98285</td>\n",
       "      <td>2.120514</td>\n",
       "    </tr>\n",
       "    <tr>\n",
       "      <th>2</th>\n",
       "      <td>EXtra tree Classifier</td>\n",
       "      <td>0.992216</td>\n",
       "      <td>0.99221</td>\n",
       "      <td>1.429115</td>\n",
       "    </tr>\n",
       "  </tbody>\n",
       "</table>\n",
       "</div>"
      ],
      "text/plain": [
       "                          Model  R-Squared Value  Adj.R-Squared Value  \\\n",
       "0  Base Linear Regression Model         0.946499              0.94646   \n",
       "1            Base Decision tree         0.982862              0.98285   \n",
       "2         EXtra tree Classifier         0.992216              0.99221   \n",
       "\n",
       "       RMSE  \n",
       "0  3.746633  \n",
       "1  2.120514  \n",
       "2  1.429115  "
      ]
     },
     "execution_count": 56,
     "metadata": {},
     "output_type": "execute_result"
    }
   ],
   "source": [
    "x3 = pd.Series({'Model': \"EXtra tree Classifier\",\n",
    "                  'R-Squared Value': r2,\n",
    "                  'Adj.R-Squared Value': adjusted_r_squared,\n",
    "                  'RMSE': rmse})\n",
    "\n",
    "models_report = models_report.append(x3, ignore_index=True)\n",
    "models_report"
   ]
  },
  {
   "cell_type": "markdown",
   "metadata": {},
   "source": [
    "# ADA BOOST REGRESSOR USING LINEAR REGRESSION"
   ]
  },
  {
   "cell_type": "code",
   "execution_count": 57,
   "metadata": {},
   "outputs": [],
   "source": [
    "from sklearn.linear_model import LinearRegression\n",
    "from sklearn.ensemble import AdaBoostRegressor\n",
    " \n",
    "model_AdaBoost=AdaBoostRegressor(base_estimator=LinearRegression(),\n",
    "                                  n_estimators=100, \n",
    "                                  random_state=101)\n",
    "#fit the model on the data and predict the values\n",
    "model_AdaBoost.fit(X_train,Y_train)\n",
    "Y_pred=model_AdaBoost.predict(X_test)"
   ]
  },
  {
   "cell_type": "code",
   "execution_count": 58,
   "metadata": {},
   "outputs": [
    {
     "name": "stdout",
     "output_type": "stream",
     "text": [
      "0.9399260485188284\n",
      "3.970099580175942\n",
      "0.9398831921239783\n"
     ]
    }
   ],
   "source": [
    "from sklearn.metrics import r2_score,mean_squared_error\n",
    "import numpy as np\n",
    "\n",
    "r2=r2_score(Y_test,Y_pred)\n",
    "print(r2)\n",
    "\n",
    "rmse=np.sqrt(mean_squared_error(Y_test,Y_pred))\n",
    "print(rmse)\n",
    "\n",
    "adjusted_r_squared = 1 - (1-r2)*(len(Y)-1)/(len(Y)-X.shape[1]-1)\n",
    "print(adjusted_r_squared)"
   ]
  },
  {
   "cell_type": "code",
   "execution_count": 59,
   "metadata": {},
   "outputs": [
    {
     "data": {
      "text/html": [
       "<div>\n",
       "<style scoped>\n",
       "    .dataframe tbody tr th:only-of-type {\n",
       "        vertical-align: middle;\n",
       "    }\n",
       "\n",
       "    .dataframe tbody tr th {\n",
       "        vertical-align: top;\n",
       "    }\n",
       "\n",
       "    .dataframe thead th {\n",
       "        text-align: right;\n",
       "    }\n",
       "</style>\n",
       "<table border=\"1\" class=\"dataframe\">\n",
       "  <thead>\n",
       "    <tr style=\"text-align: right;\">\n",
       "      <th></th>\n",
       "      <th>Model</th>\n",
       "      <th>R-Squared Value</th>\n",
       "      <th>Adj.R-Squared Value</th>\n",
       "      <th>RMSE</th>\n",
       "    </tr>\n",
       "  </thead>\n",
       "  <tbody>\n",
       "    <tr>\n",
       "      <th>0</th>\n",
       "      <td>Base Linear Regression Model</td>\n",
       "      <td>0.946499</td>\n",
       "      <td>0.946460</td>\n",
       "      <td>3.746633</td>\n",
       "    </tr>\n",
       "    <tr>\n",
       "      <th>1</th>\n",
       "      <td>Base Decision tree</td>\n",
       "      <td>0.982862</td>\n",
       "      <td>0.982850</td>\n",
       "      <td>2.120514</td>\n",
       "    </tr>\n",
       "    <tr>\n",
       "      <th>2</th>\n",
       "      <td>EXtra tree Classifier</td>\n",
       "      <td>0.992216</td>\n",
       "      <td>0.992210</td>\n",
       "      <td>1.429115</td>\n",
       "    </tr>\n",
       "    <tr>\n",
       "      <th>3</th>\n",
       "      <td>Ada Boost using Linear regression</td>\n",
       "      <td>0.939926</td>\n",
       "      <td>0.939883</td>\n",
       "      <td>3.970100</td>\n",
       "    </tr>\n",
       "  </tbody>\n",
       "</table>\n",
       "</div>"
      ],
      "text/plain": [
       "                               Model  R-Squared Value  Adj.R-Squared Value  \\\n",
       "0       Base Linear Regression Model         0.946499             0.946460   \n",
       "1                 Base Decision tree         0.982862             0.982850   \n",
       "2              EXtra tree Classifier         0.992216             0.992210   \n",
       "3  Ada Boost using Linear regression         0.939926             0.939883   \n",
       "\n",
       "       RMSE  \n",
       "0  3.746633  \n",
       "1  2.120514  \n",
       "2  1.429115  \n",
       "3  3.970100  "
      ]
     },
     "execution_count": 59,
     "metadata": {},
     "output_type": "execute_result"
    }
   ],
   "source": [
    "x4 = pd.Series({'Model': \"Ada Boost using Linear regression\",\n",
    "                  'R-Squared Value': r2,\n",
    "                  'Adj.R-Squared Value': adjusted_r_squared,\n",
    "                  'RMSE': rmse})\n",
    "\n",
    "models_report = models_report.append(x4, ignore_index=True)\n",
    "models_report"
   ]
  },
  {
   "cell_type": "markdown",
   "metadata": {},
   "source": [
    "# Random Forest Regressor"
   ]
  },
  {
   "cell_type": "code",
   "execution_count": 60,
   "metadata": {},
   "outputs": [],
   "source": [
    "from sklearn.ensemble import RandomForestRegressor\n",
    " \n",
    "#create the model object\n",
    "model_RandomForest=RandomForestRegressor(n_estimators=500,random_state=10)\n",
    "#fit the model on the data and predict the values\n",
    "model_RandomForest.fit(X_train,Y_train)\n",
    "#predict \n",
    "Y_pred=model_RandomForest.predict(X_test)"
   ]
  },
  {
   "cell_type": "code",
   "execution_count": 61,
   "metadata": {},
   "outputs": [
    {
     "name": "stdout",
     "output_type": "stream",
     "text": [
      "0.9902591470347551\n",
      "1.5986625240397532\n",
      "0.9902521979689693\n"
     ]
    }
   ],
   "source": [
    "from sklearn.metrics import r2_score,mean_squared_error\n",
    "import numpy as np\n",
    "\n",
    "r2=r2_score(Y_test,Y_pred)\n",
    "print(r2)\n",
    "\n",
    "rmse=np.sqrt(mean_squared_error(Y_test,Y_pred))\n",
    "print(rmse)\n",
    "\n",
    "adjusted_r_squared = 1 - (1-r2)*(len(Y)-1)/(len(Y)-X.shape[1]-1)\n",
    "print(adjusted_r_squared)"
   ]
  },
  {
   "cell_type": "markdown",
   "metadata": {},
   "source": [
    "# Here we can say that Extre Tree Classifier is the best algorithm to use to predict the values of link_clicks since the Adjusted R-Squared Value is 0.9922 i.e 99.22% which is higher than all the other models and also its RMSE value is the lowest of the lot."
   ]
  },
  {
   "cell_type": "code",
   "execution_count": 62,
   "metadata": {},
   "outputs": [
    {
     "data": {
      "text/html": [
       "<div>\n",
       "<style scoped>\n",
       "    .dataframe tbody tr th:only-of-type {\n",
       "        vertical-align: middle;\n",
       "    }\n",
       "\n",
       "    .dataframe tbody tr th {\n",
       "        vertical-align: top;\n",
       "    }\n",
       "\n",
       "    .dataframe thead th {\n",
       "        text-align: right;\n",
       "    }\n",
       "</style>\n",
       "<table border=\"1\" class=\"dataframe\">\n",
       "  <thead>\n",
       "    <tr style=\"text-align: right;\">\n",
       "      <th></th>\n",
       "      <th>Model</th>\n",
       "      <th>R-Squared Value</th>\n",
       "      <th>Adj.R-Squared Value</th>\n",
       "      <th>RMSE</th>\n",
       "    </tr>\n",
       "  </thead>\n",
       "  <tbody>\n",
       "    <tr>\n",
       "      <th>0</th>\n",
       "      <td>Base Linear Regression Model</td>\n",
       "      <td>0.946499</td>\n",
       "      <td>0.946460</td>\n",
       "      <td>3.746633</td>\n",
       "    </tr>\n",
       "    <tr>\n",
       "      <th>1</th>\n",
       "      <td>Base Decision tree</td>\n",
       "      <td>0.982862</td>\n",
       "      <td>0.982850</td>\n",
       "      <td>2.120514</td>\n",
       "    </tr>\n",
       "    <tr>\n",
       "      <th>2</th>\n",
       "      <td>EXtra tree Classifier</td>\n",
       "      <td>0.992216</td>\n",
       "      <td>0.992210</td>\n",
       "      <td>1.429115</td>\n",
       "    </tr>\n",
       "    <tr>\n",
       "      <th>3</th>\n",
       "      <td>Ada Boost using Linear regression</td>\n",
       "      <td>0.939926</td>\n",
       "      <td>0.939883</td>\n",
       "      <td>3.970100</td>\n",
       "    </tr>\n",
       "    <tr>\n",
       "      <th>4</th>\n",
       "      <td>Random Forset regressor</td>\n",
       "      <td>0.990259</td>\n",
       "      <td>0.990252</td>\n",
       "      <td>1.598663</td>\n",
       "    </tr>\n",
       "  </tbody>\n",
       "</table>\n",
       "</div>"
      ],
      "text/plain": [
       "                               Model  R-Squared Value  Adj.R-Squared Value  \\\n",
       "0       Base Linear Regression Model         0.946499             0.946460   \n",
       "1                 Base Decision tree         0.982862             0.982850   \n",
       "2              EXtra tree Classifier         0.992216             0.992210   \n",
       "3  Ada Boost using Linear regression         0.939926             0.939883   \n",
       "4            Random Forset regressor         0.990259             0.990252   \n",
       "\n",
       "       RMSE  \n",
       "0  3.746633  \n",
       "1  2.120514  \n",
       "2  1.429115  \n",
       "3  3.970100  \n",
       "4  1.598663  "
      ]
     },
     "execution_count": 62,
     "metadata": {},
     "output_type": "execute_result"
    }
   ],
   "source": [
    "x5 = pd.Series({'Model': \"Random Forset regressor\",\n",
    "                  'R-Squared Value': r2,\n",
    "                  'Adj.R-Squared Value': adjusted_r_squared,\n",
    "                  'RMSE': rmse})\n",
    "\n",
    "models_report = models_report.append(x5, ignore_index=True)\n",
    "models_report"
   ]
  }
 ],
 "metadata": {
  "kernelspec": {
   "display_name": "Python 3",
   "language": "python",
   "name": "python3"
  },
  "language_info": {
   "codemirror_mode": {
    "name": "ipython",
    "version": 3
   },
   "file_extension": ".py",
   "mimetype": "text/x-python",
   "name": "python",
   "nbconvert_exporter": "python",
   "pygments_lexer": "ipython3",
   "version": "3.8.3"
  }
 },
 "nbformat": 4,
 "nbformat_minor": 2
}
